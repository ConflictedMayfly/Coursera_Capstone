{
 "cells": [
  {
   "cell_type": "markdown",
   "metadata": {},
   "source": [
    "# Week 5: Battle of Neighbourhoods\n",
    "\n",
    "## Final Report"
   ]
  },
  {
   "cell_type": "markdown",
   "metadata": {},
   "source": [
    "### Introduction"
   ]
  },
  {
   "cell_type": "markdown",
   "metadata": {},
   "source": [
    "For any individual or group of individuals to relocate can be a hassle. Not only is one concerned with the quality of life in a new neighbourhood, with only a ballpark of new area, it can be quite taxing to discover all the facilities required for daily life.\n",
    "One has to consider the proximity to shopping areas, transport facilities etc. while also be on a lookout for type of neighbourhood with low crime rates, good neighbours and so on.\n",
    "\n",
    "While developing on this project, I have focussed only on the nearby places of interest by isolating various POIs and sorting them by their rating and the frequency of visits to these POIs. The beneficiary can hence, easily sort the best neighbourhoods based on the amenities expected to found."
   ]
  },
  {
   "cell_type": "markdown",
   "metadata": {},
   "source": [
    "#### Problem"
   ]
  },
  {
   "cell_type": "markdown",
   "metadata": {},
   "source": [
    "The objective of this capstone project is identify a potential relocation area by analyzing a locality using data collection from various sources and using a machine learning algorithm to provide an adequate solution to the problem. The problem statement requires a good potential locality to relocate to from Toronto due to professional reasons"
   ]
  },
  {
   "cell_type": "markdown",
   "metadata": {},
   "source": [
    "#### Target audience"
   ]
  },
  {
   "cell_type": "markdown",
   "metadata": {},
   "source": [
    "This project is a venture to examine a locality of choice among the many analyze the data to determine the fit of an area for the audience. Data about daily-requirment facilities in proximity and data about the trends in the locality are collected and used to analyze how the society is a fit.\n",
    "\n",
    "Any individual willing to relocate to Scarborough (Codename: M1P) is a beneficiary of this project. Through this project, the beneficiary will be exposed to various facets of this state and determine for himself/herself, if it is a good fit."
   ]
  },
  {
   "cell_type": "markdown",
   "metadata": {},
   "source": [
    "### Data Sources"
   ]
  },
  {
   "cell_type": "markdown",
   "metadata": {},
   "source": [
    "1. \"https://en.wikipedia.org/wiki/List_of_postal_codes_of_Canada:_M\"\n",
    "  Wikipedia page contains a list of states in Canada and its neighbourhoods.\n",
    "2. Geospatial_Coordinates.csv\n",
    "  The csv files contains latitudes and longitudes of all the location of interest\n",
    "3. Foursquare API\n",
    "  Foursquare has been used to get venue data for all the neighbourhoods. Foursquare has one of the largest databases of 105M+ and is used by over a million developers. It provides venue data for various facilities including but not restricted to restaurants, shopping areas, transit facilites.\n",
    "  "
   ]
  },
  {
   "cell_type": "markdown",
   "metadata": {},
   "source": [
    "### Methodology"
   ]
  },
  {
   "cell_type": "markdown",
   "metadata": {},
   "source": [
    "1. Using BeautifulSoup python library, data is extacted and cleaned to represent it in a tabular form, easily comprehesible by pandas DataFrame.\n",
    "2. Global Coordinates are extracted from csv file provided by Coursera and superimposed on Wikipedia data and represented on a map using 'folium' python library.\n",
    "3. During this phase, Foursquare API is used to extract information about the various locations in all neighbourhoods under study and clean and reorganise the data to be used for machine learning algorithm.\n",
    "4. Cleaning and arranging involved sorting through essential elements of retrieved data, and then , further classifying the data based on locations. The sorted locations where then filtered based on frquencies of visits (assuming that the rating of any location is directly proportional to the frquency of visits made by residents), encoded to run a knn algorithm in order to finally filter the best possible relocation hotspot."
   ]
  },
  {
   "cell_type": "markdown",
   "metadata": {},
   "source": [
    "### Results"
   ]
  },
  {
   "cell_type": "markdown",
   "metadata": {},
   "source": [
    "Relocating to Scarborough is less than an excellent choice.\n",
    "Based on the results after applying KNN, relocation of Downtown Toronto, East Toronto or East York is an ideal scenario and is highly recommended"
   ]
  },
  {
   "cell_type": "markdown",
   "metadata": {},
   "source": [
    "## Conclusion and Discussion"
   ]
  },
  {
   "cell_type": "markdown",
   "metadata": {},
   "source": [
    "The reader of this report can choose between any of the results mentioned in the findings (based on how adventurous the person feels) but the recommended locations have been sorted to the TOP for the reader to choose."
   ]
  }
 ],
 "metadata": {
  "kernelspec": {
   "display_name": "Python 3",
   "language": "python",
   "name": "python3"
  },
  "language_info": {
   "codemirror_mode": {
    "name": "ipython",
    "version": 3
   },
   "file_extension": ".py",
   "mimetype": "text/x-python",
   "name": "python",
   "nbconvert_exporter": "python",
   "pygments_lexer": "ipython3",
   "version": "3.7.5"
  }
 },
 "nbformat": 4,
 "nbformat_minor": 4
}
